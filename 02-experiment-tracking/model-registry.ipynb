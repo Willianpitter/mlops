{
 "cells": [
  {
   "cell_type": "code",
   "execution_count": 15,
   "id": "5dd39fd6",
   "metadata": {},
   "outputs": [],
   "source": [
    "from mlflow.tracking import MlflowClient\n",
    "\n",
    "\n",
    "MLFLOW_TRACKING_URI = \"sqlite:///mlflow.db\""
   ]
  },
  {
   "cell_type": "markdown",
   "id": "2482206a",
   "metadata": {},
   "source": [
    "# Interacting with the MLflow tracking server\n",
    "The MlflowClient object allows us to interact with...\n",
    "\n",
    "an MLflow Tracking Server that creates and manages experiments and runs.\n",
    "an MLflow Registry Server that creates and manages registered models and model versions.\n",
    "To instantiate it we need to pass a tracking URI and/or a registry URI"
   ]
  },
  {
   "cell_type": "code",
   "execution_count": 16,
   "id": "8e8cdcee",
   "metadata": {},
   "outputs": [
    {
     "name": "stdout",
     "output_type": "stream",
     "text": [
      "Name: MLflow Quickstart, Id: 3\n",
      "Name: ./nyc-taxi-expertiment, Id: 2\n",
      "Name: nyc-taxi-expertiment, Id: 1\n",
      "Name: Default, Id: 0\n"
     ]
    }
   ],
   "source": [
    "client = MlflowClient(tracking_uri=MLFLOW_TRACKING_URI)\n",
    "\n",
    "list_experiments = client.search_experiments()\n",
    "\n",
    "for experiment in list_experiments:\n",
    "    print(f\"Name: {experiment.name}, Id: {experiment.experiment_id}\")"
   ]
  },
  {
   "cell_type": "markdown",
   "id": "cb536fa2",
   "metadata": {},
   "source": [
    "Let's check the latest versions for the experiment with id 1..."
   ]
  },
  {
   "cell_type": "code",
   "execution_count": 28,
   "id": "1b87bf76",
   "metadata": {},
   "outputs": [],
   "source": [
    "from mlflow.entities import ViewType\n",
    "\n",
    "runs = client.search_runs(\n",
    "    experiment_ids='1',\n",
    "    filter_string=\"\",\n",
    "    run_view_type=ViewType.ACTIVE_ONLY,\n",
    "    max_results=5,\n",
    "    order_by=[\"metrics.rmse ASC\"]\n",
    ")"
   ]
  },
  {
   "cell_type": "code",
   "execution_count": 75,
   "id": "1d9f6a1f",
   "metadata": {},
   "outputs": [
    {
     "name": "stdout",
     "output_type": "stream",
     "text": [
      "run id: de489aa66f6b40879e8ce7807aa65d57, rmse: 124.7081\n",
      "run id: 4947e66f0f744cc8b6f163cdfcd450c4, rmse: 124.7081\n",
      "run id: f034660a4f4c4b5fb656d9e1299eaa4e, rmse: 124.7081\n",
      "run id: 5a6af9494cc3433988badb4b314eab23, rmse: 124.7081\n",
      "run id: ce3a021a2aa348caafba94c32c75cf8b, rmse: 147.4581\n"
     ]
    }
   ],
   "source": [
    "for run in runs:\n",
    "    print(f\"run id: {run.info.run_id}, rmse: {run.data.metrics['rmse']:.4f}\")\n",
    "    #print(run)"
   ]
  },
  {
   "cell_type": "code",
   "execution_count": 77,
   "id": "46bd9677",
   "metadata": {},
   "outputs": [],
   "source": [
    "# get the best model ID\n",
    "best_model_id = runs[0].info.run_id"
   ]
  },
  {
   "cell_type": "markdown",
   "id": "04090bca",
   "metadata": {},
   "source": [
    "# Interacting with the Model Registry\n",
    "In this section We will use the MlflowClient instance to:\n",
    "\n",
    "Register a new version for the nre best experiment nyc-taxi-regressor\n"
   ]
  },
  {
   "cell_type": "code",
   "execution_count": 98,
   "id": "58507e75",
   "metadata": {},
   "outputs": [
    {
     "name": "stdout",
     "output_type": "stream",
     "text": [
      "Model Name: nyc-taxi-regressor\n",
      "Model Name: sk-learn-random-forest-reg-model\n"
     ]
    }
   ],
   "source": [
    "# List all registered models\n",
    "registered_models = client.search_registered_models()\n",
    "\n",
    "# Print out model names\n",
    "for model in registered_models:\n",
    "    print(f\"Model Name: {model.name}\")\n",
    "    \n",
    "model_name = \"nyc-taxi-regressor\""
   ]
  },
  {
   "cell_type": "code",
   "execution_count": 94,
   "id": "5dc0f77d",
   "metadata": {},
   "outputs": [],
   "source": [
    "import mlflow\n",
    "\n",
    "mlflow.set_tracking_uri(MLFLOW_TRACKING_URI)"
   ]
  },
  {
   "cell_type": "code",
   "execution_count": 95,
   "id": "e78b58f8",
   "metadata": {},
   "outputs": [
    {
     "name": "stderr",
     "output_type": "stream",
     "text": [
      "Registered model 'nyc-taxi-regressor' already exists. Creating a new version of this model...\n",
      "Created version '4' of model 'nyc-taxi-regressor'.\n"
     ]
    }
   ],
   "source": [
    "run_id = best_model_id\n",
    "model_uri = f\"runs:/{run_id}/model\"\n",
    "model_info = mlflow.register_model(model_uri=model_uri, name=\"nyc-taxi-regressor\")"
   ]
  },
  {
   "cell_type": "code",
   "execution_count": 99,
   "id": "5dd1fb99",
   "metadata": {},
   "outputs": [],
   "source": [
    "# Get the version of the new best model\n",
    "model_version = model_info.version"
   ]
  },
  {
   "cell_type": "code",
   "execution_count": null,
   "id": "690c9dec",
   "metadata": {},
   "outputs": [],
   "source": [
    "# Set model version tag\n",
    "# Seting this new model to validation pending\n",
    "client.set_model_version_tag(model_name, model_version, \"validation_status\", \"pending\")\n",
    "# Seting a alias to this model champion to show that is the best from this experiment\n",
    "client.set_registered_model_alias(model_name, \"champion\", model_version)\n"
   ]
  },
  {
   "cell_type": "code",
   "execution_count": 85,
   "id": "ab0fc35f",
   "metadata": {},
   "outputs": [
    {
     "data": {
      "text/plain": [
       "<ModelVersion: aliases=['champion', 'first', 'second'], creation_timestamp=1725191021012, current_stage='None', description=None, last_updated_timestamp=1725191021012, name='nyc-taxi-regressor', run_id='f2f44604abb84796a004e6a3f23031a5', run_link=None, source='/workspaces/mlops/02-experiment-tracking/mlruns/1/f2f44604abb84796a004e6a3f23031a5/artifacts/model', status='READY', status_message=None, tags={'validation_status': 'approved'}, user_id=None, version=1>"
      ]
     },
     "execution_count": 85,
     "metadata": {},
     "output_type": "execute_result"
    }
   ],
   "source": [
    "# Retrieving information about the model by alias\n",
    "client.get_model_version_by_alias(model_name, \"champion\")"
   ]
  },
  {
   "cell_type": "code",
   "execution_count": null,
   "id": "81a7600b",
   "metadata": {},
   "outputs": [],
   "source": [
    "def print_registered_model_info(rm):\n",
    "    print(f\"name: {rm.name}\")\n",
    "    print(f\"tags: {rm.tags}\")\n",
    "    print(f\"description: {rm.description}\")"
   ]
  },
  {
   "cell_type": "code",
   "execution_count": null,
   "id": "c4d0620d",
   "metadata": {},
   "outputs": [],
   "source": [
    "print_registered_model_info(client.get_registered_model(name))\n"
   ]
  },
  {
   "cell_type": "code",
   "execution_count": 64,
   "id": "2d9519e5",
   "metadata": {},
   "outputs": [],
   "source": []
  },
  {
   "cell_type": "code",
   "execution_count": null,
   "id": "6d39ff04",
   "metadata": {},
   "outputs": [],
   "source": [
    "client.set_registered_model_alias(\"example-model\", \"Champion\", 2)\n"
   ]
  }
 ],
 "metadata": {
  "kernelspec": {
   "display_name": "Python 3 (ipykernel)",
   "language": "python",
   "name": "python3"
  },
  "language_info": {
   "codemirror_mode": {
    "name": "ipython",
    "version": 3
   },
   "file_extension": ".py",
   "mimetype": "text/x-python",
   "name": "python",
   "nbconvert_exporter": "python",
   "pygments_lexer": "ipython3",
   "version": "3.9.12"
  }
 },
 "nbformat": 4,
 "nbformat_minor": 5
}
